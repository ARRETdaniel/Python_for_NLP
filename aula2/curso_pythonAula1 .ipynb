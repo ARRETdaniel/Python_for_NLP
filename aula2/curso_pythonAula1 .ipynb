{
 "cells": [
  {
   "cell_type": "code",
   "execution_count": 12,
   "source": [
    "!pip install --upgrade spaCy"
   ],
   "outputs": [
    {
     "output_type": "stream",
     "name": "stdout",
     "text": [
      "Requirement already satisfied: spaCy in c:\\users\\danie\\anaconda3\\envs\\pytorch\\lib\\site-packages (3.1.2)\n",
      "Requirement already satisfied: cymem<2.1.0,>=2.0.2 in c:\\users\\danie\\anaconda3\\envs\\pytorch\\lib\\site-packages (from spaCy) (2.0.5)\n",
      "Requirement already satisfied: requests<3.0.0,>=2.13.0 in c:\\users\\danie\\anaconda3\\envs\\pytorch\\lib\\site-packages (from spaCy) (2.26.0)\n",
      "Requirement already satisfied: blis<0.8.0,>=0.4.0 in c:\\users\\danie\\anaconda3\\envs\\pytorch\\lib\\site-packages (from spaCy) (0.7.4)\n",
      "Requirement already satisfied: srsly<3.0.0,>=2.4.1 in c:\\users\\danie\\anaconda3\\envs\\pytorch\\lib\\site-packages (from spaCy) (2.4.1)\n",
      "Requirement already satisfied: pathy>=0.3.5 in c:\\users\\danie\\anaconda3\\envs\\pytorch\\lib\\site-packages (from spaCy) (0.6.0)\n",
      "Requirement already satisfied: pydantic!=1.8,!=1.8.1,<1.9.0,>=1.7.4 in c:\\users\\danie\\anaconda3\\envs\\pytorch\\lib\\site-packages (from spaCy) (1.8.2)\n",
      "Requirement already satisfied: preshed<3.1.0,>=3.0.2 in c:\\users\\danie\\anaconda3\\envs\\pytorch\\lib\\site-packages (from spaCy) (3.0.5)\n",
      "Requirement already satisfied: setuptools in c:\\users\\danie\\anaconda3\\envs\\pytorch\\lib\\site-packages (from spaCy) (52.0.0.post20210125)\n",
      "Requirement already satisfied: typing-extensions<4.0.0.0,>=3.7.4 in c:\\users\\danie\\anaconda3\\envs\\pytorch\\lib\\site-packages (from spaCy) (3.7.4.3)\n",
      "Requirement already satisfied: wasabi<1.1.0,>=0.8.1 in c:\\users\\danie\\anaconda3\\envs\\pytorch\\lib\\site-packages (from spaCy) (0.8.2)\n",
      "Requirement already satisfied: catalogue<2.1.0,>=2.0.4 in c:\\users\\danie\\anaconda3\\envs\\pytorch\\lib\\site-packages (from spaCy) (2.0.6)\n",
      "Requirement already satisfied: spacy-legacy<3.1.0,>=3.0.7 in c:\\users\\danie\\anaconda3\\envs\\pytorch\\lib\\site-packages (from spaCy) (3.0.8)\n",
      "Requirement already satisfied: murmurhash<1.1.0,>=0.28.0 in c:\\users\\danie\\anaconda3\\envs\\pytorch\\lib\\site-packages (from spaCy) (1.0.5)\n",
      "Requirement already satisfied: tqdm<5.0.0,>=4.38.0 in c:\\users\\danie\\anaconda3\\envs\\pytorch\\lib\\site-packages (from spaCy) (4.59.0)\n",
      "Requirement already satisfied: numpy>=1.15.0 in c:\\users\\danie\\anaconda3\\envs\\pytorch\\lib\\site-packages (from spaCy) (1.19.2)\n",
      "Requirement already satisfied: typer<0.4.0,>=0.3.0 in c:\\users\\danie\\anaconda3\\envs\\pytorch\\lib\\site-packages (from spaCy) (0.3.2)\n",
      "Requirement already satisfied: jinja2 in c:\\users\\danie\\anaconda3\\envs\\pytorch\\lib\\site-packages (from spaCy) (2.11.3)\n",
      "Requirement already satisfied: thinc<8.1.0,>=8.0.8 in c:\\users\\danie\\anaconda3\\envs\\pytorch\\lib\\site-packages (from spaCy) (8.0.10)\n",
      "Requirement already satisfied: packaging>=20.0 in c:\\users\\danie\\anaconda3\\envs\\pytorch\\lib\\site-packages (from spaCy) (20.9)\n",
      "Requirement already satisfied: zipp>=0.5 in c:\\users\\danie\\anaconda3\\envs\\pytorch\\lib\\site-packages (from catalogue<2.1.0,>=2.0.4->spaCy) (3.4.1)\n",
      "Requirement already satisfied: pyparsing>=2.0.2 in c:\\users\\danie\\anaconda3\\envs\\pytorch\\lib\\site-packages (from packaging>=20.0->spaCy) (2.4.7)\n",
      "Requirement already satisfied: smart-open<6.0.0,>=5.0.0 in c:\\users\\danie\\anaconda3\\envs\\pytorch\\lib\\site-packages (from pathy>=0.3.5->spaCy) (5.2.1)\n",
      "Requirement already satisfied: dataclasses<1.0,>=0.6 in c:\\users\\danie\\anaconda3\\envs\\pytorch\\lib\\site-packages (from pathy>=0.3.5->spaCy) (0.8)\n",
      "Requirement already satisfied: charset-normalizer~=2.0.0 in c:\\users\\danie\\anaconda3\\envs\\pytorch\\lib\\site-packages (from requests<3.0.0,>=2.13.0->spaCy) (2.0.4)\n",
      "Requirement already satisfied: certifi>=2017.4.17 in c:\\users\\danie\\anaconda3\\envs\\pytorch\\lib\\site-packages (from requests<3.0.0,>=2.13.0->spaCy) (2020.12.5)\n",
      "Requirement already satisfied: idna<4,>=2.5 in c:\\users\\danie\\anaconda3\\envs\\pytorch\\lib\\site-packages (from requests<3.0.0,>=2.13.0->spaCy) (3.2)\n",
      "Requirement already satisfied: urllib3<1.27,>=1.21.1 in c:\\users\\danie\\anaconda3\\envs\\pytorch\\lib\\site-packages (from requests<3.0.0,>=2.13.0->spaCy) (1.26.6)\n",
      "Requirement already satisfied: contextvars<3,>=2.4 in c:\\users\\danie\\anaconda3\\envs\\pytorch\\lib\\site-packages (from thinc<8.1.0,>=8.0.8->spaCy) (2.4)\n",
      "Requirement already satisfied: immutables>=0.9 in c:\\users\\danie\\anaconda3\\envs\\pytorch\\lib\\site-packages (from contextvars<3,>=2.4->thinc<8.1.0,>=8.0.8->spaCy) (0.16)\n",
      "Requirement already satisfied: click<7.2.0,>=7.1.1 in c:\\users\\danie\\anaconda3\\envs\\pytorch\\lib\\site-packages (from typer<0.4.0,>=0.3.0->spaCy) (7.1.2)\n",
      "Requirement already satisfied: MarkupSafe>=0.23 in c:\\users\\danie\\anaconda3\\envs\\pytorch\\lib\\site-packages (from jinja2->spaCy) (1.1.1)\n"
     ]
    }
   ],
   "metadata": {}
  },
  {
   "cell_type": "code",
   "execution_count": 15,
   "source": [
    "import spacy\r\n"
   ],
   "outputs": [],
   "metadata": {}
  },
  {
   "cell_type": "markdown",
   "source": [
    "!python -m spaCy download pt_core_news_lg"
   ],
   "metadata": {}
  },
  {
   "cell_type": "code",
   "execution_count": 2,
   "source": [
    "print(\"Hello world\")"
   ],
   "outputs": [
    {
     "output_type": "stream",
     "name": "stdout",
     "text": [
      "Hello world\n"
     ]
    }
   ],
   "metadata": {}
  },
  {
   "cell_type": "markdown",
   "source": [
    "Aula 1 - Commands Python "
   ],
   "metadata": {}
  },
  {
   "cell_type": "code",
   "execution_count": 2,
   "source": [
    "1+1"
   ],
   "outputs": [
    {
     "output_type": "execute_result",
     "data": {
      "text/plain": [
       "2"
      ]
     },
     "metadata": {},
     "execution_count": 2
    }
   ],
   "metadata": {}
  },
  {
   "cell_type": "code",
   "execution_count": 1,
   "source": [
    "\"roney\" + \"lira\""
   ],
   "outputs": [
    {
     "output_type": "execute_result",
     "data": {
      "text/plain": [
       "'roneylira'"
      ]
     },
     "metadata": {},
     "execution_count": 1
    }
   ],
   "metadata": {}
  },
  {
   "cell_type": "code",
   "execution_count": 3,
   "source": [
    "x = 4+6"
   ],
   "outputs": [],
   "metadata": {}
  },
  {
   "cell_type": "code",
   "execution_count": null,
   "source": [],
   "outputs": [],
   "metadata": {}
  }
 ],
 "metadata": {
  "kernelspec": {
   "name": "python3",
   "display_name": "Python 3.6.13 64-bit ('pytorch': conda)"
  },
  "language_info": {
   "codemirror_mode": {
    "name": "ipython",
    "version": 3
   },
   "file_extension": ".py",
   "mimetype": "text/x-python",
   "name": "python",
   "nbconvert_exporter": "python",
   "pygments_lexer": "ipython3",
   "version": "3.6.13"
  },
  "interpreter": {
   "hash": "c1b19edbd47396f742a121254609d057116f50353173c1f6d276cb8654ed8a8b"
  }
 },
 "nbformat": 4,
 "nbformat_minor": 4
}