{
 "cells": [
  {
   "cell_type": "code",
   "execution_count": null,
   "metadata": {},
   "outputs": [],
   "source": [
    "import nltk\n",
    "from nltk import bigrams\n",
    "from nltk import trigrams\n",
    "from nltk import ngrams\n",
    "from nltk.tokenize import RegexpTokenizer\n"
   ]
  },
  {
   "cell_type": "code",
   "execution_count": null,
   "metadata": {},
   "outputs": [],
   "source": [
    "corpus = open('corpus_teste.txt').read()\n",
    "corpus"
   ]
  },
  {
   "cell_type": "code",
   "execution_count": null,
   "metadata": {},
   "outputs": [],
   "source": [
    "\n",
    "tokens = nltk.word_tokenize(corpus)\n",
    "tokens\n"
   ]
  },
  {
   "cell_type": "code",
   "execution_count": null,
   "metadata": {},
   "outputs": [],
   "source": [
    "tokenks_bigramas = list(bigrams(tokens))\n",
    "tokenks_bigramas \n",
    "\n",
    "\n"
   ]
  },
  {
   "cell_type": "code",
   "execution_count": null,
   "metadata": {},
   "outputs": [],
   "source": [
    "tokenks_trigrms = list(trigrams(tokens))\n",
    "print(tokenks_trigrms[0][0][0])\n",
    "print(tokenks_trigrms[0][0])\n",
    "print(tokenks_trigrms[0])\n"
   ]
  },
  {
   "cell_type": "code",
   "execution_count": null,
   "metadata": {},
   "outputs": [],
   "source": [
    "tokenks_ngrams = list(ngrams(tokens))\n",
    "tokenks_ngrams\n"
   ]
  },
  {
   "cell_type": "markdown",
   "metadata": {},
   "source": [
    "***\n",
    "reconhecer entidades normeadas"
   ]
  },
  {
   "cell_type": "code",
   "execution_count": null,
   "metadata": {},
   "outputs": [],
   "source": [
    "bigramas = list(bigrams(tokens))\n",
    "trigramas = list(trigrams(tokens))\n",
    "\n",
    "for brigrama in bigramas:\n",
    "  #print(bigrama[0][0])\n",
    "  if bigrama[0][0].isupper() and bigrama[1][0].isupper():\n",
    "    print(bigrama)\n",
    "\n",
    "\n",
    "for trigrama in trigramas:\n",
    "  #print(bigrama[0][0])\n",
    "  if trigrama[0][0].isupper() and trigrama[1][0].isupper() and trigrama[2][0].isupper():\n",
    "    print(trigrama)\n"
   ]
  },
  {
   "cell_type": "markdown",
   "metadata": {},
   "source": [
    "Stemming e Lematizacao"
   ]
  },
  {
   "cell_type": "code",
   "execution_count": null,
   "metadata": {},
   "outputs": [],
   "source": [
    "stemmer = nltk.RSLPStemmer()\n",
    "\n",
    "print(stemmer.stem(\"amigao\"))\n",
    "print(stemmer.stem(\"luao\"))\n",
    "print(stemmer.stem(\"narutao\"))\n",
    "print(stemmer.stem(\"aviao\"))\n",
    "print(stemmer.stem(\"amigo\"))"
   ]
  },
  {
   "cell_type": "markdown",
   "metadata": {},
   "source": [
    "etiquetador\n"
   ]
  },
  {
   "cell_type": "code",
   "execution_count": null,
   "metadata": {},
   "outputs": [],
   "source": [
    "from nltk.corpus import mac_morpho\n",
    "from nltk.tag import UnigramTagger\n",
    "\n",
    "tokens = nltk.word_tokenize(corpus)\n",
    "\n",
    "sentencas_treino = mac_morpho.tagged_sents()\n",
    "etiquetador = UnigramTagger(sentencas_treino)\n",
    "\n",
    "\n",
    "\n",
    "etiquetador = etiquetador.tag(corpus)\n",
    "\n",
    "print(etiquetador)"
   ]
  },
  {
   "cell_type": "code",
   "execution_count": null,
   "metadata": {},
   "outputs": [],
   "source": [
    "from nltk.corpus import mac_morpho\n",
    "from nltk.tag import UnigramTagger\n",
    "from nltk.tag import DefaultTagger\n",
    "\n",
    "tokens = nltk.word_tokenize(corpus)\n",
    "\n",
    "etiq_padrao = DefaultTagger('N')\n",
    "sentencas_treino = mac_morpho.tagged_sents()\n",
    "etiquetador = UnigramTagger(sentencas_treino, backoff=etiq_padrao)\n",
    "\n",
    "\n",
    "etiquetador = etiquetador.tag(corpus)\n",
    "\n",
    "print(etiquetador)\n"
   ]
  },
  {
   "cell_type": "code",
   "execution_count": null,
   "metadata": {},
   "outputs": [],
   "source": [
    "from nltk.chunk import RegexpParser\n",
    "\n",
    "pattern = 'NP: {<NPROP><NPROP> | <N><N>}'\n",
    "\n",
    "analise_gramatical = RegexpParser(pattern)\n",
    "\n",
    "arvore = analise_gramatical.parse(etiquetador)\n",
    "\n",
    "print(arvore)\n"
   ]
  },
  {
   "cell_type": "code",
   "execution_count": null,
   "metadata": {},
   "outputs": [],
   "source": []
  }
 ],
 "metadata": {
  "interpreter": {
   "hash": "c1b19edbd47396f742a121254609d057116f50353173c1f6d276cb8654ed8a8b"
  },
  "kernelspec": {
   "display_name": "Python 3.6.13 64-bit ('pytorch': conda)",
   "name": "python3"
  },
  "language_info": {
   "codemirror_mode": {
    "name": "ipython",
    "version": 3
   },
   "file_extension": ".py",
   "mimetype": "text/x-python",
   "name": "python",
   "nbconvert_exporter": "python",
   "pygments_lexer": "ipython3",
   "version": "3.6.13"
  },
  "orig_nbformat": 4
 },
 "nbformat": 4,
 "nbformat_minor": 2
}
