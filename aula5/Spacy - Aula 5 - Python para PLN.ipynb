{
 "cells": [
  {
   "cell_type": "code",
   "execution_count": null,
   "metadata": {},
   "outputs": [],
   "source": [
    "!pip install -U spacy"
   ]
  },
  {
   "cell_type": "code",
   "execution_count": null,
   "metadata": {},
   "outputs": [],
   "source": [
    "pip install -U spacy-lookups-data"
   ]
  },
  {
   "cell_type": "code",
   "execution_count": null,
   "metadata": {},
   "outputs": [],
   "source": [
    "!python -m spacy download pt_core_news_sm \n"
   ]
  },
  {
   "cell_type": "code",
   "execution_count": null,
   "metadata": {},
   "outputs": [],
   "source": [
    "corpus = open('corpus_teste.txt').read()\n",
    "corpus\n"
   ]
  },
  {
   "cell_type": "code",
   "execution_count": null,
   "metadata": {},
   "outputs": [],
   "source": [
    "import spacy\n",
    "\n",
    "texto = corpus\n",
    "nlp = spacy.load(\"pt_core_news_lg\")\n",
    "doc = nlp(texto)"
   ]
  },
  {
   "cell_type": "code",
   "execution_count": null,
   "metadata": {},
   "outputs": [],
   "source": [
    "tokens = [token for token in  doc]\n",
    "print(tokens)\n",
    "type(tokens[0])"
   ]
  },
  {
   "cell_type": "code",
   "execution_count": null,
   "metadata": {},
   "outputs": [],
   "source": [
    "corpus = open('corpus_teste.txt').read()\n",
    "\n",
    "texto = corpus\n",
    "#nlp = spacy.load(\"pt_core_news_sm\")\n",
    "doc = nlp(texto)\n",
    "tokens = [token for token in doc]\n",
    "tokens\n"
   ]
  },
  {
   "cell_type": "code",
   "execution_count": null,
   "metadata": {},
   "outputs": [],
   "source": [
    "alpha_tokens = [token.orth_ for token in doc if token.is_alpha]\n",
    "print(\"Alpha Tokens: \" (alpha_tokens))\n",
    "\n",
    "alpha_tokens = [token.orth_ for token in doc if token.is_alpha]\n",
    "print(\"Alpha Tokens: \" (alpha_tokens))\n",
    "\n",
    "alpha_tokens = [token.orth_ for token in doc if token.is_alpha]\n",
    "print(\"Alpha Tokens: \" (alpha_tokens))\n"
   ]
  },
  {
   "cell_type": "code",
   "execution_count": null,
   "metadata": {},
   "outputs": [],
   "source": [
    "tokens_pontuacoes = [token.orth_ for token in doc if token.is_alpha]\n",
    "\n",
    "tokens_pontuacoes = [token.orth_ for token in doc if token.is_digit]\n",
    "\n",
    "tokens_pontuacoes = [token.orth_ for token in doc if token.is_punct]\n",
    "\n"
   ]
  },
  {
   "cell_type": "code",
   "execution_count": null,
   "metadata": {},
   "outputs": [],
   "source": []
  }
 ],
 "metadata": {
  "interpreter": {
   "hash": "c1b19edbd47396f742a121254609d057116f50353173c1f6d276cb8654ed8a8b"
  },
  "kernelspec": {
   "display_name": "Python 3.6.13 64-bit ('pytorch': conda)",
   "name": "python3"
  },
  "language_info": {
   "codemirror_mode": {
    "name": "ipython",
    "version": 3
   },
   "file_extension": ".py",
   "mimetype": "text/x-python",
   "name": "python",
   "nbconvert_exporter": "python",
   "pygments_lexer": "ipython3",
   "version": "3.6.13"
  },
  "orig_nbformat": 4
 },
 "nbformat": 4,
 "nbformat_minor": 2
}
