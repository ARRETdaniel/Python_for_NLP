{
 "cells": [
  {
   "cell_type": "code",
   "execution_count": 2,
   "source": [
    "string = 'Biblioteca de ferramentas úteis para a utilização dos princípios de PLN'\r\n",
    "string[1:10]\r\n"
   ],
   "outputs": [
    {
     "output_type": "execute_result",
     "data": {
      "text/plain": [
       "'iblioteca'"
      ]
     },
     "metadata": {},
     "execution_count": 2
    }
   ],
   "metadata": {}
  },
  {
   "cell_type": "code",
   "execution_count": 3,
   "source": [
    "string.upper()"
   ],
   "outputs": [
    {
     "output_type": "execute_result",
     "data": {
      "text/plain": [
       "'BIBLIOTECA DE FERRAMENTAS ÚTEIS PARA A UTILIZAÇÃO DOS PRINCÍPIOS DE PLN'"
      ]
     },
     "metadata": {},
     "execution_count": 3
    }
   ],
   "metadata": {}
  },
  {
   "cell_type": "code",
   "execution_count": 5,
   "source": [
    "string.replace('a', 'X')"
   ],
   "outputs": [
    {
     "output_type": "execute_result",
     "data": {
      "text/plain": [
       "'BibliotecX de ferrXmentXs úteis pXrX X utilizXção dos princípios de PLN'"
      ]
     },
     "metadata": {},
     "execution_count": 5
    }
   ],
   "metadata": {}
  },
  {
   "cell_type": "code",
   "execution_count": 6,
   "source": [
    "string.split()"
   ],
   "outputs": [
    {
     "output_type": "execute_result",
     "data": {
      "text/plain": [
       "['Biblioteca',\n",
       " 'de',\n",
       " 'ferramentas',\n",
       " 'úteis',\n",
       " 'para',\n",
       " 'a',\n",
       " 'utilização',\n",
       " 'dos',\n",
       " 'princípios',\n",
       " 'de',\n",
       " 'PLN']"
      ]
     },
     "metadata": {},
     "execution_count": 6
    }
   ],
   "metadata": {}
  },
  {
   "cell_type": "code",
   "execution_count": 8,
   "source": [
    "string.split('ferramentas')"
   ],
   "outputs": [
    {
     "output_type": "execute_result",
     "data": {
      "text/plain": [
       "['Biblioteca de ', ' úteis para a utilização dos princípios de PLN']"
      ]
     },
     "metadata": {},
     "execution_count": 8
    }
   ],
   "metadata": {}
  },
  {
   "cell_type": "code",
   "execution_count": 13,
   "source": [
    "print(string.split('de'))\r\n",
    "len(string.split('de'))\r\n",
    "\r\n"
   ],
   "outputs": [
    {
     "output_type": "stream",
     "name": "stdout",
     "text": [
      "['Biblioteca ', ' ferramentas úteis para a utilização dos princípios ', ' PLN']\n"
     ]
    },
    {
     "output_type": "execute_result",
     "data": {
      "text/plain": [
       "3"
      ]
     },
     "metadata": {},
     "execution_count": 13
    }
   ],
   "metadata": {}
  },
  {
   "cell_type": "code",
   "execution_count": 21,
   "source": [
    "lista_split = string.split()\r\n",
    "lista_split.append('UEND')\r\n",
    "lista_split\r\n"
   ],
   "outputs": [
    {
     "output_type": "execute_result",
     "data": {
      "text/plain": [
       "['Biblioteca',\n",
       " 'de',\n",
       " 'ferramentas',\n",
       " 'úteis',\n",
       " 'para',\n",
       " 'a',\n",
       " 'utilização',\n",
       " 'dos',\n",
       " 'princípios',\n",
       " 'de',\n",
       " 'PLN',\n",
       " 'UEND']"
      ]
     },
     "metadata": {},
     "execution_count": 21
    }
   ],
   "metadata": {}
  },
  {
   "cell_type": "code",
   "execution_count": 22,
   "source": [
    "juntar = \"/\".join(lista_split)\r\n",
    "juntar"
   ],
   "outputs": [
    {
     "output_type": "execute_result",
     "data": {
      "text/plain": [
       "'Biblioteca/de/ferramentas/úteis/para/a/utilização/dos/princípios/de/PLN/UEND'"
      ]
     },
     "metadata": {},
     "execution_count": 22
    }
   ],
   "metadata": {}
  },
  {
   "cell_type": "code",
   "execution_count": 26,
   "source": [
    "string2 = 'Biblioteca (\\n) de ferramentas (\\t) úteis para a (\\')utilização(\\') dos princípios de (\\\\) PLN'\r\n",
    "print(string2)\r\n"
   ],
   "outputs": [
    {
     "output_type": "stream",
     "name": "stdout",
     "text": [
      "Biblioteca (\n",
      ") de ferramentas (\t) úteis para a (')utilização(') dos princípios de (\\) PLN\n"
     ]
    }
   ],
   "metadata": {}
  },
  {
   "cell_type": "code",
   "execution_count": null,
   "source": [],
   "outputs": [],
   "metadata": {}
  }
 ],
 "metadata": {
  "orig_nbformat": 4,
  "language_info": {
   "name": "python",
   "version": "3.6.13",
   "mimetype": "text/x-python",
   "codemirror_mode": {
    "name": "ipython",
    "version": 3
   },
   "pygments_lexer": "ipython3",
   "nbconvert_exporter": "python",
   "file_extension": ".py"
  },
  "kernelspec": {
   "name": "python3",
   "display_name": "Python 3.6.13 64-bit ('pytorch': conda)"
  },
  "interpreter": {
   "hash": "c1b19edbd47396f742a121254609d057116f50353173c1f6d276cb8654ed8a8b"
  }
 },
 "nbformat": 4,
 "nbformat_minor": 2
}