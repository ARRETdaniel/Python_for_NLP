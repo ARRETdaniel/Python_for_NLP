{
 "cells": [
  {
   "cell_type": "markdown",
   "metadata": {},
   "source": [
    "#PYTHON PARA PLNLISTA DE EXERCÍCIOS 1"
   ]
  },
  {
   "cell_type": "markdown",
   "metadata": {},
   "source": [
    "1.Crie  três  variáveis e  atribua  os  valores  a  seguir: a=1, b=5.9e c=‘teste’.  A partir disso, retorne o tipo de cada uma das variáveis."
   ]
  },
  {
   "cell_type": "code",
   "execution_count": 1,
   "metadata": {},
   "outputs": [
    {
     "name": "stdout",
     "output_type": "stream",
     "text": [
      "<class 'int'>\n",
      "<class 'float'>\n",
      "<class 'str'>\n"
     ]
    }
   ],
   "source": [
    "a = 1\n",
    "b = 5.9\n",
    "c = 'teste'\n",
    "\n",
    "print(type(a))\n",
    "print(type(b))\n",
    "print(type(c))\n"
   ]
  },
  {
   "cell_type": "markdown",
   "metadata": {},
   "source": [
    "2.Troque o valor da variável apor ‘1’e verifique se o tipo da variável mudou."
   ]
  },
  {
   "cell_type": "code",
   "execution_count": 2,
   "metadata": {},
   "outputs": [
    {
     "name": "stdout",
     "output_type": "stream",
     "text": [
      "<class 'int'>\n"
     ]
    }
   ],
   "source": [
    "a = 2\n",
    "print(type(a))\n"
   ]
  },
  {
   "cell_type": "markdown",
   "metadata": {},
   "source": [
    "3.Faça a soma da variável bcom a variável c. Interprete a saída, tanto em caso de execução correta quanto em caso de execução com erro."
   ]
  },
  {
   "cell_type": "code",
   "execution_count": 3,
   "metadata": {},
   "outputs": [
    {
     "name": "stdout",
     "output_type": "stream",
     "text": [
      "5.9teste\n"
     ]
    }
   ],
   "source": [
    "sum = str(b) + (c)\n",
    "print(sum)"
   ]
  },
  {
   "cell_type": "markdown",
   "metadata": {},
   "source": [
    "Crie uma listacom números de 0 a 9 (em qualquer ordem). Com ela, faça:\n",
    "\n",
    "  a.Adicione o número 6\n",
    "\n",
    "  b.Insira o número 7 na 3ª posição da lista\n",
    "\n",
    "  c.Remova o elemento 3 da listad.Adicione o número 4\n",
    "  \n",
    "  e.Verifique o número de ocorrências do número 4 na lista"
   ]
  },
  {
   "cell_type": "code",
   "execution_count": 4,
   "metadata": {},
   "outputs": [
    {
     "name": "stdout",
     "output_type": "stream",
     "text": [
      "num of 4 2\n",
      "[0, 1, 2, 3, 4, 5, 6, 7, 8, 6, 4]\n"
     ]
    }
   ],
   "source": [
    "list_1 = list(range(9))\n",
    "list_1.append(6)\n",
    "list_1.insert(3,7)\n",
    "list_1.pop(3)\n",
    "list_1.append(4)\n",
    "print('num of 4', list_1.count(4))\n",
    "\n",
    "print(list_1)\n"
   ]
  },
  {
   "cell_type": "markdown",
   "metadata": {},
   "source": [
    "5.Ainda com a lista criada na questão anterior, faça:\n",
    "\n",
    "a.Retorne os primeiros 3 elementos da lista\n",
    "\n",
    "b.Retorne os elementos que estão da 3ª posição até a 7ª posição da lista\n",
    "\n",
    "c.Retorne os elementos da lista de 3 em 3 elementos\n",
    "\n",
    "d.Retorne os 3 últimos elementos da lista\n",
    "\n",
    "e.Retorne todos os elementos menos os 4 últimos da lista"
   ]
  },
  {
   "cell_type": "code",
   "execution_count": 5,
   "metadata": {},
   "outputs": [
    {
     "name": "stdout",
     "output_type": "stream",
     "text": [
      "[0, 1, 2]\n",
      "[2, 3, 4, 5]\n",
      "[0, 3, 6, 6]\n",
      "[8, 6, 4]\n",
      "[0, 1, 2, 3, 4, 5, 6]\n",
      "[0, 1, 2, 3, 4, 5, 6, 7, 8]\n"
     ]
    }
   ],
   "source": [
    "print(list_1[:3])\n",
    "print(list_1[2:6])\n",
    "print(list_1[: : 3])\n",
    "print(list_1[-3:])\n",
    "print(list_1[:-4])\n",
    "\n",
    "list_1 = list(range(9))\n",
    "print(list_1)\n"
   ]
  },
  {
   "cell_type": "markdown",
   "metadata": {},
   "source": [
    "6.Com a lista das questões anteriores, retorne o 6º elemento da lista."
   ]
  },
  {
   "cell_type": "markdown",
   "metadata": {},
   "source": [
    "7.Altere o valor do 7º elemento da lista para o valor 12"
   ]
  },
  {
   "cell_type": "markdown",
   "metadata": {},
   "source": [
    "8.Inverta a ordem dos elementos na lista."
   ]
  },
  {
   "cell_type": "code",
   "execution_count": 6,
   "metadata": {},
   "outputs": [
    {
     "name": "stdout",
     "output_type": "stream",
     "text": [
      "[8, 7, 12, 5, 4, 3, 2, 1, 0]\n"
     ]
    }
   ],
   "source": [
    "list_1.index(6)\n",
    "list_1[6] = 12\n",
    "list_1.reverse()\n",
    "print(list_1)\n"
   ]
  },
  {
   "cell_type": "markdown",
   "metadata": {},
   "source": [
    "9.Ordene a lista."
   ]
  },
  {
   "cell_type": "code",
   "execution_count": 7,
   "metadata": {},
   "outputs": [
    {
     "name": "stdout",
     "output_type": "stream",
     "text": [
      "[0, 1, 2, 3, 4, 5, 7, 8, 12]\n"
     ]
    }
   ],
   "source": [
    "list_1.sort()\n",
    "print(list_1)\n"
   ]
  },
  {
   "cell_type": "markdown",
   "metadata": {},
   "source": [
    "10.Crie uma tuplacom números de 0 a 9 (em qualquer ordem) e tente:\n",
    "\n",
    "a.Alterar o valor do 3º elemento da tupla para o valor 10\n",
    "\n",
    "b.Verificar o índice (posição) do valor 5 na tupla"
   ]
  },
  {
   "cell_type": "code",
   "execution_count": 8,
   "metadata": {},
   "outputs": [
    {
     "name": "stdout",
     "output_type": "stream",
     "text": [
      "3\n",
      "5\n",
      "(0, 1, 2, 3, 4, 5, 6, 7, 8)\n"
     ]
    }
   ],
   "source": [
    "tuple_1 = tuple(range(9))\n",
    "print(tuple_1[3])\n",
    "print(tuple_1.index(5))\n",
    "print(tuple_1)\n"
   ]
  },
  {
   "cell_type": "code",
   "execution_count": 9,
   "metadata": {},
   "outputs": [
    {
     "ename": "TypeError",
     "evalue": "'tuple' object does not support item assignment",
     "output_type": "error",
     "traceback": [
      "\u001b[1;31m---------------------------------------------------------------------------\u001b[0m",
      "\u001b[1;31mTypeError\u001b[0m                                 Traceback (most recent call last)",
      "\u001b[1;32m<ipython-input-9-b277a3400e9e>\u001b[0m in \u001b[0;36m<module>\u001b[1;34m\u001b[0m\n\u001b[1;32m----> 1\u001b[1;33m \u001b[0mtuple_1\u001b[0m\u001b[1;33m[\u001b[0m\u001b[1;36m3\u001b[0m\u001b[1;33m]\u001b[0m \u001b[1;33m=\u001b[0m \u001b[1;36m10\u001b[0m\u001b[1;33m\u001b[0m\u001b[1;33m\u001b[0m\u001b[0m\n\u001b[0m",
      "\u001b[1;31mTypeError\u001b[0m: 'tuple' object does not support item assignment"
     ]
    }
   ],
   "source": [
    "tuple_1[3] = 10\n"
   ]
  },
  {
   "cell_type": "markdown",
   "metadata": {},
   "source": [
    "11.Crie um dicionário com 5 entradas e suas respectivas chaves e valores. Faça:\n",
    "\n",
    "a.Imprima todas as chaves do dicionáriob.Imprima todos os valores do dicionário\n",
    "\n",
    "c.Imprima todos os itens do dicionário\n",
    "\n",
    "d.Imprima o 2º item do dicionárioe.Imprima o dicionário completo\n",
    "\n",
    "f.Percorra o dicionário, imprimindo para cada entrada o modelo “(chave) tem como valor (valor)”"
   ]
  },
  {
   "cell_type": "code",
   "execution_count": 44,
   "metadata": {},
   "outputs": [
    {
     "name": "stdout",
     "output_type": "stream",
     "text": [
      "{'afghanistan': 30, 'albania': 2, 'algeria': 39, 'brazil': 55, 'italy': 66}\n",
      "dict_keys(['afghanistan', 'albania', 'algeria', 'brazil', 'italy'])\n",
      "dict_values([30, 2, 39, 55, 66])\n",
      "albania\n",
      "{'afghanistan': 30, 'albania': 2, 'algeria': 39, 'brazil': 55, 'italy': 66}\n",
      "--------\n",
      "dict_keys(['afghanistan', 'albania', 'algeria', 'brazil', 'italy']) tem como valor  dict_values([30, 2, 39, 55, 66])\n",
      "--------\n",
      "dict_keys(['afghanistan', 'albania', 'algeria', 'brazil', 'italy']) tem como valor  dict_values([30, 2, 39, 55, 66])\n",
      "dict_keys(['afghanistan', 'albania', 'algeria', 'brazil', 'italy']) tem como valor  dict_values([30, 2, 39, 55, 66])\n",
      "dict_keys(['afghanistan', 'albania', 'algeria', 'brazil', 'italy']) tem como valor  dict_values([30, 2, 39, 55, 66])\n",
      "dict_keys(['afghanistan', 'albania', 'algeria', 'brazil', 'italy']) tem como valor  dict_values([30, 2, 39, 55, 66])\n",
      "dict_keys(['afghanistan', 'albania', 'algeria', 'brazil', 'italy']) tem como valor  dict_values([30, 2, 39, 55, 66])\n"
     ]
    }
   ],
   "source": [
    "world = {\"afghanistan\": 30, \"albania\": 2, \"algeria\": 39, \"brazil\": 55, 'italy': 66}\n",
    "print(world)\n",
    "print(world.keys())\n",
    "print(world.values())\n",
    "print(list(world.keys())[1])\n",
    "print(world)\n",
    "print('--------')\n",
    "\n",
    "print(world.keys(), \"tem como valor \", world.values())\n",
    "print('--------')\n",
    "for i in world:\n",
    "  print(world.keys(), \"tem como valor \", world.values())\n"
   ]
  },
  {
   "cell_type": "markdown",
   "metadata": {},
   "source": [
    "12.Crie um arquivo e:\n",
    "\n",
    "a.Escreva nele os números de 1 a 10\n",
    "\n",
    "b.Depois de escrito, imprima na tela todos os números do arquivo\n",
    "\n",
    "c.Escreva no arquivo os números de 11 a 20, substituindo os números que estavam antes no arquivo\n",
    "\n",
    "d.Escreva no arquivo os números de 21 a 30, adicionando os números no final do arquivo (sem apagar o que já estavam lá)\n",
    "e.Imprima na tela todos os números do arquivo novamente (de 11 a 30)\n",
    "\n",
    "f.Imprima  na  tela  todos  os  números  do  arquivo  novamente,  mas  agora linha por linha"
   ]
  },
  {
   "cell_type": "code",
   "execution_count": 42,
   "metadata": {},
   "outputs": [
    {
     "name": "stdout",
     "output_type": "stream",
     "text": [
      "1\n",
      "2\n",
      "3\n",
      "4\n",
      "5\n",
      "6\n",
      "7\n",
      "8\n",
      "9\n",
      "10\n",
      "\n"
     ]
    }
   ],
   "source": [
    "infile = open('result_qbdata.txt', 'r')\n",
    "outfile = open('result_qbdata.txt', 'w')\n",
    "\n",
    "for i in range(1, 11):\n",
    "  outfile.write(str(i)+'\\n')\n",
    "\n",
    "print(infile.read())\n",
    "\n",
    "\n",
    "#for i in range(11, 21):\n",
    "#  outfile.write(str(i))\n",
    "\n",
    "#print('-:',infile.read())\n"
   ]
  },
  {
   "cell_type": "code",
   "execution_count": 2,
   "metadata": {},
   "outputs": [
    {
     "name": "stdout",
     "output_type": "stream",
     "text": [
      "11\n",
      "12\n",
      "13\n",
      "14\n",
      "15\n",
      "16\n",
      "17\n",
      "18\n",
      "19\n",
      "20\n",
      "\n"
     ]
    }
   ],
   "source": [
    "\n",
    "infile = open('result_qbdata.txt', 'r')\n",
    "outfile = open('result_qbdata.txt', 'w')\n",
    "\n",
    "for i in range(11, 21):\n",
    "  outfile.write(str(i)+'\\n')\n",
    "\n",
    "print(infile.read())\n",
    "\n"
   ]
  },
  {
   "cell_type": "code",
   "execution_count": 63,
   "metadata": {},
   "outputs": [
    {
     "name": "stdout",
     "output_type": "stream",
     "text": [
      "11\n",
      "12\n",
      "13\n",
      "14\n",
      "15\n",
      "16\n",
      "17\n",
      "18\n",
      "19\n",
      "20\n",
      "21\n",
      "22\n",
      "23\n",
      "24\n",
      "25\n",
      "26\n",
      "27\n",
      "28\n",
      "29\n",
      "30\n",
      "\n"
     ]
    }
   ],
   "source": [
    "infile = open('result_qbdata.txt', 'r')\n",
    "outfile = open('result_qbdata.txt', 'a')\n",
    "\n",
    "for i in range(21, 31):\n",
    "  outfile.write(str(i)+'\\n')\n",
    "\n",
    "#print(len(infile.read()))\n",
    "\n",
    "print(infile.read())\n",
    "\n"
   ]
  },
  {
   "cell_type": "code",
   "execution_count": 72,
   "metadata": {},
   "outputs": [
    {
     "name": "stdout",
     "output_type": "stream",
     "text": [
      "11\n",
      "12\n",
      "13\n",
      "14\n",
      "15\n",
      "16\n",
      "17\n",
      "18\n",
      "19\n",
      "20\n",
      "21\n",
      "22\n",
      "23\n",
      "24\n",
      "25\n",
      "26\n",
      "27\n",
      "28\n",
      "29\n",
      "30\n",
      "\n"
     ]
    }
   ],
   "source": [
    "infile = open('result_qbdata.txt', 'r')\n",
    "print(infile.read()[:])\n"
   ]
  },
  {
   "cell_type": "code",
   "execution_count": 77,
   "metadata": {},
   "outputs": [
    {
     "name": "stdout",
     "output_type": "stream",
     "text": [
      "11\n",
      "12\n",
      "13\n",
      "14\n",
      "15\n",
      "16\n",
      "17\n",
      "18\n",
      "19\n",
      "20\n",
      "21\n",
      "22\n",
      "23\n",
      "24\n",
      "25\n",
      "26\n",
      "27\n",
      "28\n",
      "29\n",
      "30\n",
      "\n"
     ]
    }
   ],
   "source": [
    "infile = open('result_qbdata.txt', 'r')\n",
    "\n",
    "print(infile.read())\n"
   ]
  }
 ],
 "metadata": {
  "interpreter": {
   "hash": "c1b19edbd47396f742a121254609d057116f50353173c1f6d276cb8654ed8a8b"
  },
  "kernelspec": {
   "display_name": "Python 3.6.13 64-bit ('pytorch': conda)",
   "name": "python3"
  },
  "language_info": {
   "codemirror_mode": {
    "name": "ipython",
    "version": 3
   },
   "file_extension": ".py",
   "mimetype": "text/x-python",
   "name": "python",
   "nbconvert_exporter": "python",
   "pygments_lexer": "ipython3",
   "version": "3.6.13"
  },
  "orig_nbformat": 4
 },
 "nbformat": 4,
 "nbformat_minor": 2
}
