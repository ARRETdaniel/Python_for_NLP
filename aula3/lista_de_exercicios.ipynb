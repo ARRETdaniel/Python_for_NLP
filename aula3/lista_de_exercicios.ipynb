{
 "cells": [
  {
   "cell_type": "markdown",
   "source": [
    "#PYTHON PARA PLNLISTA DE EXERCÍCIOS 1"
   ],
   "metadata": {}
  },
  {
   "cell_type": "markdown",
   "source": [
    "1.Crie  três  variáveis e  atribua  os  valores  a  seguir: a=1, b=5.9e c=‘teste’.  A partir disso, retorne o tipo de cada uma das variáveis."
   ],
   "metadata": {}
  },
  {
   "cell_type": "code",
   "execution_count": 1,
   "source": [
    "a = 1\r\n",
    "b = 5.9\r\n",
    "c = 'teste'\r\n",
    "\r\n",
    "print(type(a))\r\n",
    "print(type(b))\r\n",
    "print(type(c))\r\n"
   ],
   "outputs": [
    {
     "output_type": "stream",
     "name": "stdout",
     "text": [
      "<class 'int'>\n",
      "<class 'float'>\n",
      "<class 'str'>\n"
     ]
    }
   ],
   "metadata": {}
  },
  {
   "cell_type": "markdown",
   "source": [
    "2.Troque o valor da variável apor ‘1’e verifique se o tipo da variável mudou."
   ],
   "metadata": {}
  },
  {
   "cell_type": "code",
   "execution_count": 2,
   "source": [
    "a = 2\r\n",
    "print(type(a))\r\n"
   ],
   "outputs": [
    {
     "output_type": "stream",
     "name": "stdout",
     "text": [
      "<class 'int'>\n"
     ]
    }
   ],
   "metadata": {}
  },
  {
   "cell_type": "markdown",
   "source": [
    "3.Faça a soma da variável bcom a variável c. Interprete a saída, tanto em caso de execução correta quanto em caso de execução com erro."
   ],
   "metadata": {}
  },
  {
   "cell_type": "code",
   "execution_count": 3,
   "source": [
    "sum = str(b) + (c)\r\n",
    "print(sum)"
   ],
   "outputs": [
    {
     "output_type": "stream",
     "name": "stdout",
     "text": [
      "5.9teste\n"
     ]
    }
   ],
   "metadata": {}
  },
  {
   "cell_type": "markdown",
   "source": [
    "Crie uma listacom números de 0 a 9 (em qualquer ordem). Com ela, faça:\r\n",
    "\r\n",
    "  a.Adicione o número 6\r\n",
    "\r\n",
    "  b.Insira o número 7 na 3ª posição da lista\r\n",
    "\r\n",
    "  c.Remova o elemento 3 da listad.Adicione o número 4\r\n",
    "  \r\n",
    "  e.Verifique o número de ocorrências do número 4 na lista"
   ],
   "metadata": {}
  },
  {
   "cell_type": "code",
   "execution_count": 4,
   "source": [
    "list_1 = list(range(9))\r\n",
    "list_1.append(6)\r\n",
    "list_1.insert(3,7)\r\n",
    "list_1.pop(3)\r\n",
    "list_1.append(4)\r\n",
    "print('num of 4', list_1.count(4))\r\n",
    "\r\n",
    "print(list_1)\r\n"
   ],
   "outputs": [
    {
     "output_type": "stream",
     "name": "stdout",
     "text": [
      "num of 4 2\n",
      "[0, 1, 2, 3, 4, 5, 6, 7, 8, 6, 4]\n"
     ]
    }
   ],
   "metadata": {}
  },
  {
   "cell_type": "markdown",
   "source": [
    "5.Ainda com a lista criada na questão anterior, faça:\r\n",
    "\r\n",
    "a.Retorne os primeiros 3 elementos da lista\r\n",
    "\r\n",
    "b.Retorne os elementos que estão da 3ª posição até a 7ª posição da lista\r\n",
    "\r\n",
    "c.Retorne os elementos da lista de 3 em 3 elementos\r\n",
    "\r\n",
    "d.Retorne os 3 últimos elementos da lista\r\n",
    "\r\n",
    "e.Retorne todos os elementos menos os 4 últimos da lista"
   ],
   "metadata": {}
  },
  {
   "cell_type": "code",
   "execution_count": 5,
   "source": [
    "print(list_1[:3])\r\n",
    "print(list_1[2:6])\r\n",
    "print(list_1[: : 3])\r\n",
    "print(list_1[-3:])\r\n",
    "print(list_1[:-4])\r\n",
    "\r\n",
    "list_1 = list(range(9))\r\n",
    "print(list_1)\r\n"
   ],
   "outputs": [
    {
     "output_type": "stream",
     "name": "stdout",
     "text": [
      "[0, 1, 2]\n",
      "[2, 3, 4, 5]\n",
      "[0, 3, 6, 6]\n",
      "[8, 6, 4]\n",
      "[0, 1, 2, 3, 4, 5, 6]\n",
      "[0, 1, 2, 3, 4, 5, 6, 7, 8]\n"
     ]
    }
   ],
   "metadata": {}
  },
  {
   "cell_type": "markdown",
   "source": [
    "6.Com a lista das questões anteriores, retorne o 6º elemento da lista."
   ],
   "metadata": {}
  },
  {
   "cell_type": "markdown",
   "source": [
    "7.Altere o valor do 7º elemento da lista para o valor 12"
   ],
   "metadata": {}
  },
  {
   "cell_type": "markdown",
   "source": [
    "8.Inverta a ordem dos elementos na lista."
   ],
   "metadata": {}
  },
  {
   "cell_type": "code",
   "execution_count": 6,
   "source": [
    "list_1.index(6)\r\n",
    "list_1[6] = 12\r\n",
    "list_1.reverse()\r\n",
    "print(list_1)\r\n"
   ],
   "outputs": [
    {
     "output_type": "stream",
     "name": "stdout",
     "text": [
      "[8, 7, 12, 5, 4, 3, 2, 1, 0]\n"
     ]
    }
   ],
   "metadata": {}
  },
  {
   "cell_type": "markdown",
   "source": [
    "9.Ordene a lista."
   ],
   "metadata": {}
  },
  {
   "cell_type": "code",
   "execution_count": 7,
   "source": [
    "list_1.sort()\r\n",
    "print(list_1)\r\n"
   ],
   "outputs": [
    {
     "output_type": "stream",
     "name": "stdout",
     "text": [
      "[0, 1, 2, 3, 4, 5, 7, 8, 12]\n"
     ]
    }
   ],
   "metadata": {}
  },
  {
   "cell_type": "markdown",
   "source": [
    "10.Crie uma tuplacom números de 0 a 9 (em qualquer ordem) e tente:\r\n",
    "\r\n",
    "a.Alterar o valor do 3º elemento da tupla para o valor 10\r\n",
    "\r\n",
    "b.Verificar o índice (posição) do valor 5 na tupla"
   ],
   "metadata": {}
  },
  {
   "cell_type": "code",
   "execution_count": 8,
   "source": [
    "tuple_1 = tuple(range(9))\r\n",
    "print(tuple_1[3])\r\n",
    "print(tuple_1.index(5))\r\n",
    "print(tuple_1)\r\n"
   ],
   "outputs": [
    {
     "output_type": "stream",
     "name": "stdout",
     "text": [
      "3\n",
      "5\n",
      "(0, 1, 2, 3, 4, 5, 6, 7, 8)\n"
     ]
    }
   ],
   "metadata": {}
  },
  {
   "cell_type": "code",
   "execution_count": 9,
   "source": [
    "tuple_1[3] = 10\r\n"
   ],
   "outputs": [
    {
     "output_type": "error",
     "ename": "TypeError",
     "evalue": "'tuple' object does not support item assignment",
     "traceback": [
      "\u001b[1;31m---------------------------------------------------------------------------\u001b[0m",
      "\u001b[1;31mTypeError\u001b[0m                                 Traceback (most recent call last)",
      "\u001b[1;32m<ipython-input-9-b277a3400e9e>\u001b[0m in \u001b[0;36m<module>\u001b[1;34m\u001b[0m\n\u001b[1;32m----> 1\u001b[1;33m \u001b[0mtuple_1\u001b[0m\u001b[1;33m[\u001b[0m\u001b[1;36m3\u001b[0m\u001b[1;33m]\u001b[0m \u001b[1;33m=\u001b[0m \u001b[1;36m10\u001b[0m\u001b[1;33m\u001b[0m\u001b[1;33m\u001b[0m\u001b[0m\n\u001b[0m",
      "\u001b[1;31mTypeError\u001b[0m: 'tuple' object does not support item assignment"
     ]
    }
   ],
   "metadata": {}
  },
  {
   "cell_type": "markdown",
   "source": [
    "11.Crie um dicionário com 5 entradas e suas respectivas chaves e valores. Faça:\r\n",
    "\r\n",
    "a.Imprima todas as chaves do dicionáriob.Imprima todos os valores do dicionário\r\n",
    "\r\n",
    "c.Imprima todos os itens do dicionário\r\n",
    "\r\n",
    "d.Imprima o 2º item do dicionárioe.Imprima o dicionário completo\r\n",
    "\r\n",
    "f.Percorra o dicionário, imprimindo para cada entrada o modelo “(chave) tem como valor (valor)”"
   ],
   "metadata": {}
  },
  {
   "cell_type": "code",
   "execution_count": 44,
   "source": [
    "world = {\"afghanistan\": 30, \"albania\": 2, \"algeria\": 39, \"brazil\": 55, 'italy': 66}\r\n",
    "print(world)\r\n",
    "print(world.keys())\r\n",
    "print(world.values())\r\n",
    "print(list(world.keys())[1])\r\n",
    "print(world)\r\n",
    "print('--------')\r\n",
    "\r\n",
    "print(world.keys(), \"tem como valor \", world.values())\r\n",
    "print('--------')\r\n",
    "for i in world:\r\n",
    "  print(world.keys(), \"tem como valor \", world.values())\r\n"
   ],
   "outputs": [
    {
     "output_type": "stream",
     "name": "stdout",
     "text": [
      "{'afghanistan': 30, 'albania': 2, 'algeria': 39, 'brazil': 55, 'italy': 66}\n",
      "dict_keys(['afghanistan', 'albania', 'algeria', 'brazil', 'italy'])\n",
      "dict_values([30, 2, 39, 55, 66])\n",
      "albania\n",
      "{'afghanistan': 30, 'albania': 2, 'algeria': 39, 'brazil': 55, 'italy': 66}\n",
      "--------\n",
      "dict_keys(['afghanistan', 'albania', 'algeria', 'brazil', 'italy']) tem como valor  dict_values([30, 2, 39, 55, 66])\n",
      "--------\n",
      "dict_keys(['afghanistan', 'albania', 'algeria', 'brazil', 'italy']) tem como valor  dict_values([30, 2, 39, 55, 66])\n",
      "dict_keys(['afghanistan', 'albania', 'algeria', 'brazil', 'italy']) tem como valor  dict_values([30, 2, 39, 55, 66])\n",
      "dict_keys(['afghanistan', 'albania', 'algeria', 'brazil', 'italy']) tem como valor  dict_values([30, 2, 39, 55, 66])\n",
      "dict_keys(['afghanistan', 'albania', 'algeria', 'brazil', 'italy']) tem como valor  dict_values([30, 2, 39, 55, 66])\n",
      "dict_keys(['afghanistan', 'albania', 'algeria', 'brazil', 'italy']) tem como valor  dict_values([30, 2, 39, 55, 66])\n"
     ]
    }
   ],
   "metadata": {}
  },
  {
   "cell_type": "markdown",
   "source": [
    "12.Crie um arquivo e:\r\n",
    "\r\n",
    "a.Escreva nele os números de 1 a 10\r\n",
    "\r\n",
    "b.Depois de escrito, imprima na tela todos os números do arquivo\r\n",
    "\r\n",
    "c.Escreva no arquivo os números de 11 a 20, substituindo os números que estavam antes no arquivo\r\n",
    "\r\n",
    "d.Escreva no arquivo os números de 21 a 30, adicionando os números no final do arquivo (sem apagar o que já estavam lá)\r\n",
    "e.Imprima na tela todos os números do arquivo novamente (de 11 a 30)\r\n",
    "\r\n",
    "f.Imprima  na  tela  todos  os  números  do  arquivo  novamente,  mas  agora linha por linha"
   ],
   "metadata": {}
  },
  {
   "cell_type": "code",
   "execution_count": null,
   "source": [],
   "outputs": [],
   "metadata": {}
  }
 ],
 "metadata": {
  "orig_nbformat": 4,
  "language_info": {
   "name": "python",
   "version": "3.6.13",
   "mimetype": "text/x-python",
   "codemirror_mode": {
    "name": "ipython",
    "version": 3
   },
   "pygments_lexer": "ipython3",
   "nbconvert_exporter": "python",
   "file_extension": ".py"
  },
  "kernelspec": {
   "name": "python3",
   "display_name": "Python 3.6.13 64-bit ('pytorch': conda)"
  },
  "interpreter": {
   "hash": "c1b19edbd47396f742a121254609d057116f50353173c1f6d276cb8654ed8a8b"
  }
 },
 "nbformat": 4,
 "nbformat_minor": 2
}