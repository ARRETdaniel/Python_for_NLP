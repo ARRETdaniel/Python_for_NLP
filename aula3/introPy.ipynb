{
 "cells": [
  {
   "cell_type": "markdown",
   "source": [
    "!pip install --upgrade spaCy"
   ],
   "metadata": {}
  },
  {
   "cell_type": "markdown",
   "source": [
    "Aula 3 - Commands Python "
   ],
   "metadata": {}
  },
  {
   "cell_type": "markdown",
   "source": [
    "review basics\r\n"
   ],
   "metadata": {}
  },
  {
   "cell_type": "code",
   "execution_count": 30,
   "source": [
    "y = \"Daniel Terra\"\r\n",
    "#y\r\n",
    "y = 21\r\n",
    "x = 21.2\r\n",
    "y > x\r\n",
    "print(y)\r\n",
    "type(y)\r\n",
    "\r\n"
   ],
   "outputs": [
    {
     "output_type": "stream",
     "name": "stdout",
     "text": [
      "21\n"
     ]
    },
    {
     "output_type": "execute_result",
     "data": {
      "text/plain": [
       "int"
      ]
     },
     "metadata": {},
     "execution_count": 30
    }
   ],
   "metadata": {}
  },
  {
   "cell_type": "code",
   "execution_count": 18,
   "source": [
    "v1 = 2\r\n",
    "v2 = 4\r\n",
    "v1 + v2\r\n",
    "\r\n",
    "v1 = \"2\"\r\n",
    "v2 = \"4\"\r\n",
    "v1 + v2\r\n"
   ],
   "outputs": [
    {
     "output_type": "execute_result",
     "data": {
      "text/plain": [
       "'24'"
      ]
     },
     "metadata": {},
     "execution_count": 18
    }
   ],
   "metadata": {}
  },
  {
   "cell_type": "code",
   "execution_count": 21,
   "source": [
    "for i in range(5):\r\n",
    "  print(i)\r\n",
    "\r\n",
    "#for i in range(5):\r\n"
   ],
   "outputs": [
    {
     "output_type": "stream",
     "name": "stdout",
     "text": [
      "0\n",
      "1\n",
      "2\n",
      "3\n",
      "4\n"
     ]
    }
   ],
   "metadata": {}
  },
  {
   "cell_type": "code",
   "execution_count": 29,
   "source": [
    "par = 1\r\n",
    "impar = 2\r\n",
    "num = 2\r\n",
    "\r\n",
    "if num % 2 == 0:\r\n",
    "  par = par + 1\r\n",
    "  print (\"par\")\r\n",
    "else:\r\n",
    "    impar = impar + 1\r\n",
    "    print (\"impar\")"
   ],
   "outputs": [
    {
     "output_type": "stream",
     "name": "stdout",
     "text": [
      "par\n"
     ]
    }
   ],
   "metadata": {}
  },
  {
   "cell_type": "markdown",
   "source": [
    "Listas e Tuplas"
   ],
   "metadata": {}
  },
  {
   "cell_type": "markdown",
   "source": [
    "listas: mutaveis e delimitadas por colchetes\r\n",
    "\r\n",
    "tuplas: imutaveis  e delimitadas por parenteses"
   ],
   "metadata": {}
  },
  {
   "cell_type": "code",
   "execution_count": 33,
   "source": [
    "lista = []\r\n",
    "lista = list(range(5))\r\n",
    "lista = [0,1,2,3,4,5]\r\n",
    "print(type(lista))\r\n",
    "print(lista)\r\n"
   ],
   "outputs": [
    {
     "output_type": "stream",
     "name": "stdout",
     "text": [
      "<class 'list'>\n",
      "[0, 1, 2, 3, 4, 5]\n"
     ]
    }
   ],
   "metadata": {}
  },
  {
   "cell_type": "code",
   "execution_count": 43,
   "source": [
    "lista.append(1000)\r\n",
    "print(lista)\r\n"
   ],
   "outputs": [
    {
     "output_type": "stream",
     "name": "stdout",
     "text": [
      "[0, 9, 2, 3, 4, 5, 5, 5, 5, 5, 1000]\n"
     ]
    }
   ],
   "metadata": {}
  },
  {
   "cell_type": "code",
   "execution_count": 44,
   "source": [
    "lista[1]\r\n",
    "lista[1] = 9\r\n",
    "lista[1]\r\n",
    "print(lista)\r\n"
   ],
   "outputs": [
    {
     "output_type": "stream",
     "name": "stdout",
     "text": [
      "[0, 9, 2, 3, 4, 5, 5, 5, 5, 5, 1000]\n"
     ]
    }
   ],
   "metadata": {}
  },
  {
   "cell_type": "code",
   "execution_count": 49,
   "source": [
    "lista.insert(6,21)\r\n",
    "print(lista)\r\n"
   ],
   "outputs": [
    {
     "output_type": "stream",
     "name": "stdout",
     "text": [
      "[6, 0, 9, 2, 3, 4, 21, 21, 21, 21, 5, 5, 5, 5, 5, 1000]\n"
     ]
    }
   ],
   "metadata": {}
  },
  {
   "cell_type": "code",
   "execution_count": 51,
   "source": [
    "lista.reverse()\r\n",
    "print(lista)\r\n"
   ],
   "outputs": [
    {
     "output_type": "stream",
     "name": "stdout",
     "text": [
      "[1000, 5, 5, 5, 5, 5, 21, 21, 21, 21, 4, 3, 2, 9, 0, 6]\n"
     ]
    }
   ],
   "metadata": {}
  },
  {
   "cell_type": "code",
   "execution_count": 56,
   "source": [
    "lista.sort()\r\n",
    "print(lista)\r\n"
   ],
   "outputs": [
    {
     "output_type": "stream",
     "name": "stdout",
     "text": [
      "[0, 2, 3, 4, 5, 5, 5, 5, 5, 6, 9, 21, 21, 21, 21, 1000]\n"
     ]
    }
   ],
   "metadata": {}
  },
  {
   "cell_type": "code",
   "execution_count": 59,
   "source": [
    "lista.count(21)"
   ],
   "outputs": [
    {
     "output_type": "execute_result",
     "data": {
      "text/plain": [
       "4"
      ]
     },
     "metadata": {},
     "execution_count": 59
    }
   ],
   "metadata": {}
  },
  {
   "cell_type": "code",
   "execution_count": 66,
   "source": [
    "lista.count(21)"
   ],
   "outputs": [
    {
     "output_type": "execute_result",
     "data": {
      "text/plain": [
       "4"
      ]
     },
     "metadata": {},
     "execution_count": 66
    }
   ],
   "metadata": {}
  },
  {
   "cell_type": "code",
   "execution_count": 62,
   "source": [
    "lista.index(1000)"
   ],
   "outputs": [
    {
     "output_type": "execute_result",
     "data": {
      "text/plain": [
       "15"
      ]
     },
     "metadata": {},
     "execution_count": 62
    }
   ],
   "metadata": {}
  },
  {
   "cell_type": "code",
   "execution_count": 69,
   "source": [
    "lista2 = list(range(10))\r\n",
    "print(lista2)\r\n",
    "print(lista2[2:7])\r\n",
    "print(lista2[2:7:2])\r\n"
   ],
   "outputs": [
    {
     "output_type": "stream",
     "name": "stdout",
     "text": [
      "[0, 1, 2, 3, 4, 5, 6, 7, 8, 9]\n",
      "[2, 3, 4, 5, 6]\n",
      "[2, 4, 6]\n"
     ]
    }
   ],
   "metadata": {}
  },
  {
   "cell_type": "code",
   "execution_count": 71,
   "source": [
    "#print(lista2[2:7:2])\r\n",
    "lista3 = [\"held\", \"unheld\", \"held\", \"rwsd\"]\r\n",
    "lista3.sort()\r\n",
    "print(lista3)\r\n"
   ],
   "outputs": [
    {
     "output_type": "stream",
     "name": "stdout",
     "text": [
      "['held', 'held', 'rwsd', 'unheld']\n"
     ]
    }
   ],
   "metadata": {}
  },
  {
   "cell_type": "markdown",
   "source": [
    "tuplas heterogeneros, ou seja, tipos difentes dentro da tupla"
   ],
   "metadata": {}
  },
  {
   "cell_type": "code",
   "execution_count": 77,
   "source": [
    "lista4 = [\"2\", 1, [23]]"
   ],
   "outputs": [],
   "metadata": {}
  },
  {
   "cell_type": "code",
   "execution_count": 76,
   "source": [
    "t = (1, \"DeprecationWarning\", 2, \"ajuda\", 32)\r\n",
    "print(t)"
   ],
   "outputs": [
    {
     "output_type": "stream",
     "name": "stdout",
     "text": [
      "(1, 'DeprecationWarning', 2, 'ajuda', 32)\n"
     ]
    }
   ],
   "metadata": {}
  },
  {
   "cell_type": "code",
   "execution_count": 78,
   "source": [
    "t[0] = 2"
   ],
   "outputs": [
    {
     "output_type": "error",
     "ename": "TypeError",
     "evalue": "'tuple' object does not support item assignment",
     "traceback": [
      "\u001b[1;31m---------------------------------------------------------------------------\u001b[0m",
      "\u001b[1;31mTypeError\u001b[0m                                 Traceback (most recent call last)",
      "\u001b[1;32m<ipython-input-78-0c6697a06bab>\u001b[0m in \u001b[0;36m<module>\u001b[1;34m\u001b[0m\n\u001b[1;32m----> 1\u001b[1;33m \u001b[0mt\u001b[0m\u001b[1;33m[\u001b[0m\u001b[1;36m0\u001b[0m\u001b[1;33m]\u001b[0m \u001b[1;33m=\u001b[0m \u001b[1;36m2\u001b[0m\u001b[1;33m\u001b[0m\u001b[1;33m\u001b[0m\u001b[0m\n\u001b[0m",
      "\u001b[1;31mTypeError\u001b[0m: 'tuple' object does not support item assignment"
     ]
    }
   ],
   "metadata": {}
  },
  {
   "cell_type": "markdown",
   "source": [
    "dicionarios"
   ],
   "metadata": {}
  },
  {
   "cell_type": "code",
   "execution_count": 84,
   "source": [
    "list2 = [['aaoo',999],['aaa', 20], ['ajuda', 10], ['']]\r\n",
    "\r\n",
    "list2[0][1]"
   ],
   "outputs": [
    {
     "output_type": "execute_result",
     "data": {
      "text/plain": [
       "999"
      ]
     },
     "metadata": {},
     "execution_count": 84
    }
   ],
   "metadata": {}
  },
  {
   "cell_type": "code",
   "execution_count": 88,
   "source": [
    "dic = {}\r\n",
    "dic['daniel'] = 10\r\n",
    "dic['terra'] = 8\r\n",
    "dic['luna'] = 10\r\n",
    "print (dic)"
   ],
   "outputs": [
    {
     "output_type": "stream",
     "name": "stdout",
     "text": [
      "{'daniel': 10, 'terra': 8, 'luna': 10}\n"
     ]
    }
   ],
   "metadata": {}
  },
  {
   "cell_type": "code",
   "execution_count": 87,
   "source": [
    "print(dic.keys() )"
   ],
   "outputs": [
    {
     "output_type": "stream",
     "name": "stdout",
     "text": [
      "dict_keys(['daniel', 'terra', 'luna'])\n"
     ]
    }
   ],
   "metadata": {}
  },
  {
   "cell_type": "code",
   "execution_count": 89,
   "source": [
    "print(dic.values())"
   ],
   "outputs": [
    {
     "output_type": "stream",
     "name": "stdout",
     "text": [
      "dict_values([10, 8, 10])\n"
     ]
    }
   ],
   "metadata": {}
  },
  {
   "cell_type": "code",
   "execution_count": 90,
   "source": [
    "type(dic.keys())"
   ],
   "outputs": [
    {
     "output_type": "execute_result",
     "data": {
      "text/plain": [
       "dict_keys"
      ]
     },
     "metadata": {},
     "execution_count": 90
    }
   ],
   "metadata": {}
  },
  {
   "cell_type": "code",
   "execution_count": 94,
   "source": [
    "dic.keys()[2]\r\n"
   ],
   "outputs": [
    {
     "output_type": "error",
     "ename": "TypeError",
     "evalue": "'dict_keys' object does not support indexing",
     "traceback": [
      "\u001b[1;31m---------------------------------------------------------------------------\u001b[0m",
      "\u001b[1;31mTypeError\u001b[0m                                 Traceback (most recent call last)",
      "\u001b[1;32m<ipython-input-94-6e2f84807e08>\u001b[0m in \u001b[0;36m<module>\u001b[1;34m\u001b[0m\n\u001b[1;32m----> 1\u001b[1;33m \u001b[0mdic\u001b[0m\u001b[1;33m.\u001b[0m\u001b[0mkeys\u001b[0m\u001b[1;33m(\u001b[0m\u001b[1;33m)\u001b[0m\u001b[1;33m[\u001b[0m\u001b[1;36m2\u001b[0m\u001b[1;33m]\u001b[0m\u001b[1;33m\u001b[0m\u001b[1;33m\u001b[0m\u001b[0m\n\u001b[0m",
      "\u001b[1;31mTypeError\u001b[0m: 'dict_keys' object does not support indexing"
     ]
    }
   ],
   "metadata": {}
  },
  {
   "cell_type": "code",
   "execution_count": 91,
   "source": [
    "list(dic.keys())"
   ],
   "outputs": [
    {
     "output_type": "execute_result",
     "data": {
      "text/plain": [
       "['daniel', 'terra', 'luna']"
      ]
     },
     "metadata": {},
     "execution_count": 91
    }
   ],
   "metadata": {}
  },
  {
   "cell_type": "code",
   "execution_count": 92,
   "source": [
    "list(dic.keys())[2]\r\n"
   ],
   "outputs": [
    {
     "output_type": "execute_result",
     "data": {
      "text/plain": [
       "'luna'"
      ]
     },
     "metadata": {},
     "execution_count": 92
    }
   ],
   "metadata": {}
  },
  {
   "cell_type": "code",
   "execution_count": 95,
   "source": [
    "list(dic.items())"
   ],
   "outputs": [
    {
     "output_type": "execute_result",
     "data": {
      "text/plain": [
       "[('daniel', 10), ('terra', 8), ('luna', 10)]"
      ]
     },
     "metadata": {},
     "execution_count": 95
    }
   ],
   "metadata": {}
  },
  {
   "cell_type": "code",
   "execution_count": 96,
   "source": [
    "for chave, valor in dic.items():\r\n",
    "  print(chave, 'new number', valor)"
   ],
   "outputs": [
    {
     "output_type": "stream",
     "name": "stdout",
     "text": [
      "daniel new number 10\n",
      "terra new number 8\n",
      "luna new number 10\n"
     ]
    }
   ],
   "metadata": {}
  },
  {
   "cell_type": "code",
   "execution_count": 98,
   "source": [
    "dic['daniel'] = [7, 4]\r\n",
    "print(dic)"
   ],
   "outputs": [
    {
     "output_type": "stream",
     "name": "stdout",
     "text": [
      "{'daniel': [7, 4], 'terra': 8, 'luna': 10}\n"
     ]
    }
   ],
   "metadata": {}
  },
  {
   "cell_type": "markdown",
   "source": [
    "arquivos------------------------"
   ],
   "metadata": {}
  },
  {
   "cell_type": "code",
   "execution_count": 107,
   "source": [
    "path = 'qbdata.txt'\r\n",
    "#file_extension = open(path, 'r')\r\n"
   ],
   "outputs": [],
   "metadata": {}
  },
  {
   "cell_type": "code",
   "execution_count": 132,
   "source": [
    "infile = open(path, 'r')\r\n",
    "#outfile = open('result_qbdata.txt', 'w')"
   ],
   "outputs": [],
   "metadata": {}
  },
  {
   "cell_type": "markdown",
   "source": [
    "a = append, ou seja, escrita no final do arquivio"
   ],
   "metadata": {}
  },
  {
   "cell_type": "markdown",
   "source": [
    "fecgar arquivo com close()"
   ],
   "metadata": {}
  },
  {
   "cell_type": "code",
   "execution_count": 121,
   "source": [
    "print(infile.read())\r\n"
   ],
   "outputs": [
    {
     "output_type": "stream",
     "name": "stdout",
     "text": [
      "Colt McCoy QB, CLE  135 222 1576    6   9   60.8%   74.5\n",
      "Josh Freeman QB, TB 291 474 3451    25  6   61.4%   95.9\n",
      "Michael Vick QB, PHI    233 372 3018    21  6   62.6%   100.2\n",
      "Matt Schaub QB, HOU 365 574 4370    24  12  63.6%   92.0\n",
      "Philip Rivers QB, SD    357 541 4710    30  13  66.0%   101.8\n",
      "Matt Hasselbeck QB, SEA 266 444 3001    12  17  59.9%   73.2\n",
      "Jimmy Clausen QB, CAR   157 299 1558    3   9   52.5%   58.4\n",
      "Joe Flacco QB, BAL  306 489 3622    25  10  62.6%   93.6\n",
      "Kyle Orton QB, DEN  293 498 3653    20  9   58.8%   87.5\n",
      "Jason Campbell QB, OAK  194 329 2387    13  8   59.0%   84.5\n",
      "Peyton Manning QB, IND  450 679 4700    33  17  66.3%   91.9\n",
      "Drew Brees QB, NO   448 658 4620    33  22  68.1%   90.9\n",
      "Matt Ryan QB, ATL   357 571 3705    28  9   62.5%   91.0\n",
      "Matt Cassel QB, KC  262 450 3116    27  7   58.2%   93.0\n",
      "Mark Sanchez QB, NYJ    278 507 3291    17  13  54.8%   75.3\n",
      "Brett Favre QB, MIN 217 358 2509    11  19  60.6%   69.9\n",
      "David Garrard QB, JAC   236 366 2734    23  15  64.5%   90.8\n",
      "Eli Manning QB, NYG 339 539 4002    31  25  62.9%   85.3\n",
      "Carson Palmer QB, CIN   362 586 3970    26  20  61.8%   82.4\n",
      "Alex Smith QB, SF   204 342 2370    14  10  59.6%   82.1\n",
      "Chad Henne QB, MIA  301 490 3301    15  19  61.4%   75.4\n",
      "Tony Romo QB, DAL   148 213 1605    11  7   69.5%   94.9\n",
      "Jay Cutler QB, CHI  261 432 3274    23  16  60.4%   86.3\n",
      "Jon Kitna QB, DAL   209 318 2365    16  12  65.7%   88.9\n",
      "Tom Brady QB, NE    324 492 3900    36  4   65.9%   111.0\n",
      "Ben Roethlisberger QB, PIT  240 389 3200    17  5   61.7%   97.0\n",
      "Kerry Collins QB, TEN   160 278 1823    14  8   57.6%   82.2\n",
      "Derek Anderson QB, ARI  169 327 2065    7   10  51.7%   65.9\n",
      "Ryan Fitzpatrick QB, BUF    255 441 3000    23  15  57.8%   81.8\n",
      "Donovan McNabb QB, WAS  275 472 3377    14  15  58.3%   77.1\n",
      "Kevin Kolb QB, PHI  115 189 1197    7   7   60.8%   76.1\n",
      "Aaron Rodgers QB, GB    312 475 3922    28  11  65.7%   101.2\n",
      "Sam Bradford QB, STL    354 590 3512    18  15  60.0%   76.5\n",
      "Shaun Hill QB, DET  257 416 2686    16  12  61.8%   81.3\n"
     ]
    }
   ],
   "metadata": {}
  },
  {
   "cell_type": "code",
   "execution_count": 122,
   "source": [
    "read_file = infile.read()\r\n",
    "print(read_file)"
   ],
   "outputs": [
    {
     "output_type": "stream",
     "name": "stdout",
     "text": [
      "\n"
     ]
    }
   ],
   "metadata": {}
  },
  {
   "cell_type": "code",
   "execution_count": 173,
   "source": [
    "infile = open('result_qbdata.txt', 'r')\r\n",
    "outfile = open('result_qbdata.txt', 'w')\r\n",
    "numero = 10\r\n",
    "outfile.write(str(10))\r\n",
    "print(infile.read())\r\n"
   ],
   "outputs": [
    {
     "output_type": "stream",
     "name": "stdout",
     "text": [
      "10\n"
     ]
    }
   ],
   "metadata": {}
  },
  {
   "cell_type": "code",
   "execution_count": 174,
   "source": [
    "addfile = open('result_qbdata.txt', 'a')\r\n",
    "addfile.write(' 3333final aula22442')\r\n",
    "\r\n",
    "print(infile.read())\r\n"
   ],
   "outputs": [
    {
     "output_type": "stream",
     "name": "stdout",
     "text": [
      " 3333final aula22442\n"
     ]
    }
   ],
   "metadata": {}
  },
  {
   "cell_type": "code",
   "execution_count": 175,
   "source": [
    "#print(infile.read())\r\n",
    "\r\n",
    "outfile.close()\r\n"
   ],
   "outputs": [
    {
     "output_type": "stream",
     "name": "stdout",
     "text": [
      "\n"
     ]
    }
   ],
   "metadata": {}
  }
 ],
 "metadata": {
  "kernelspec": {
   "name": "python3",
   "display_name": "Python 3.6.13 64-bit ('pytorch': conda)"
  },
  "language_info": {
   "codemirror_mode": {
    "name": "ipython",
    "version": 3
   },
   "file_extension": ".py",
   "mimetype": "text/x-python",
   "name": "python",
   "nbconvert_exporter": "python",
   "pygments_lexer": "ipython3",
   "version": "3.6.13"
  },
  "interpreter": {
   "hash": "c1b19edbd47396f742a121254609d057116f50353173c1f6d276cb8654ed8a8b"
  }
 },
 "nbformat": 4,
 "nbformat_minor": 4
}